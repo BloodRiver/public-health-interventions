{
 "cells": [
  {
   "cell_type": "code",
   "execution_count": 2,
   "id": "a5da1725-bd98-4700-8b21-c73252372812",
   "metadata": {},
   "outputs": [
    {
     "name": "stdout",
     "output_type": "stream",
     "text": [
      "User ID: 1\n",
      "Username: Sagacity\n",
      "Email: sag.arnob@gmail.com\n",
      "Address: City - dhaka, Area - gulshan\n",
      "User Type: Administrator\n"
     ]
    }
   ],
   "source": [
    "import json\n",
    "import pymysql\n",
    "\n",
    "db = pymysql.connect(host=\"localhost\", user=\"root\", password=\"\", database=\"test\")\n",
    "cursor = db.cursor()\n",
    "\n",
    "cursor.execute(\"SELECT * FROM user\")\n",
    "results = cursor.fetchall()\n",
    "first = results[0]\n",
    "\n",
    "user_id, username, email, password, address, user_type = *first[:-2], json.loads(first[-2]), first[-1]\n",
    "\n",
    "print(\"User ID:\", user_id)\n",
    "print(\"Username:\", username)\n",
    "print(\"Email:\", email)\n",
    "print(f\"Address: City - {address['city']}, Area - {address['area']}\")\n",
    "print(\"User Type:\", user_type)\n",
    "cursor.close()\n",
    "db.close()"
   ]
  },
  {
   "cell_type": "code",
   "execution_count": null,
   "id": "4b8faca9",
   "metadata": {},
   "outputs": [],
   "source": [
    "data = {'labels': [\"Apple\", \"Banana\", \"Cherry\"], 'data': [10, 20, 5]}"
   ]
  }
 ],
 "metadata": {
  "kernelspec": {
   "display_name": "Python 3 (ipykernel)",
   "language": "python",
   "name": "python3"
  },
  "language_info": {
   "codemirror_mode": {
    "name": "ipython",
    "version": 3
   },
   "file_extension": ".py",
   "mimetype": "text/x-python",
   "name": "python",
   "nbconvert_exporter": "python",
   "pygments_lexer": "ipython3",
   "version": "3.11.5"
  }
 },
 "nbformat": 4,
 "nbformat_minor": 5
}
